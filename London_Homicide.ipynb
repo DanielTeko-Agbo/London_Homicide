{
 "cells": [
  {
   "cell_type": "markdown",
   "metadata": {},
   "source": [
    "#### _IMPORTING LIBRARIES_"
   ]
  },
  {
   "cell_type": "code",
   "execution_count": null,
   "metadata": {},
   "outputs": [
    {
     "ename": "",
     "evalue": "",
     "output_type": "error",
     "traceback": [
      "\u001b[1;31mUnable to start Kernel 'dsenv (Python 3.9.7)' due to connection timeout. \n",
      "View Jupyter <a href='command:jupyter.viewOutput'>log</a> for further details."
     ]
    }
   ],
   "source": [
    "import pandas as pd \n",
    "import numpy as np \n",
    "import matplotlib.pyplot as plt \n",
    "import seaborn as sns\n",
    "import cufflinks as cf\n",
    "import folium\n",
    "from plotly.offline import download_plotlyjs, init_notebook_mode, plot, iplot\n",
    "import datetime\n",
    "from folium.plugins import MarkerCluster, HeatMap, AntPath\n",
    "\n",
    "cf.go_offline()\n",
    "init_notebook_mode()"
   ]
  },
  {
   "cell_type": "markdown",
   "metadata": {},
   "source": [
    "#### _READING DATA_"
   ]
  },
  {
   "cell_type": "code",
   "execution_count": null,
   "metadata": {},
   "outputs": [],
   "source": [
    "data = pd.read_excel(r\"./mmap.xlsx\")\n",
    "land_code = pd.read_excel(r\"./londonimddecile.xlsx\")\n",
    "land_pop = pd.read_excel(r\"./boroughpop.xlsx\")"
   ]
  },
  {
   "cell_type": "code",
   "execution_count": null,
   "metadata": {},
   "outputs": [],
   "source": [
    "# Making copies of the dataframes, so we will have our data intact even if something goes wrong.\n",
    "df1 = data.copy()\n",
    "df2 = land_code.copy()\n",
    "df3 = land_pop.copy()"
   ]
  },
  {
   "cell_type": "code",
   "execution_count": null,
   "metadata": {},
   "outputs": [],
   "source": [
    "df1.shape, df2.shape, df3.shape"
   ]
  },
  {
   "cell_type": "markdown",
   "metadata": {},
   "source": [
    "#### _EDA_"
   ]
  },
  {
   "cell_type": "code",
   "execution_count": null,
   "metadata": {},
   "outputs": [],
   "source": [
    "df1.head()"
   ]
  },
  {
   "cell_type": "code",
   "execution_count": null,
   "metadata": {},
   "outputs": [],
   "source": [
    "df1.info()"
   ]
  },
  {
   "cell_type": "markdown",
   "metadata": {},
   "source": [
    "Based on the above information about dataset, we are going to:\n",
    "\n",
    "1. **Drop all features relating to the suspect** since these features have close to 50% of their values missing.\n",
    "\n",
    "2. **Drop the easting and the northing features** since the longitude and latitude features are what we will be using.\n",
    "\n",
    "3. **Drop the ID column** so we use the index provided by pandas.\n",
    "\n",
    "4. **Fill missing values** for the remaining columns if there are any null values.\n"
   ]
  },
  {
   "cell_type": "code",
   "execution_count": null,
   "metadata": {},
   "outputs": [],
   "source": [
    "# Dropping features about the suspect.\n",
    "df1.drop(columns=['susno', 'susage', 'sussex', 'susagegp'], axis=1, inplace=True)"
   ]
  },
  {
   "cell_type": "code",
   "execution_count": null,
   "metadata": {},
   "outputs": [],
   "source": [
    "# Dropping ID, easting and northing features.\n",
    "df1.drop(columns=['easting', 'northing', 'ID'], axis='columns', inplace=True)"
   ]
  },
  {
   "cell_type": "code",
   "execution_count": null,
   "metadata": {},
   "outputs": [],
   "source": [
    "df1"
   ]
  },
  {
   "cell_type": "code",
   "execution_count": null,
   "metadata": {},
   "outputs": [],
   "source": [
    "df1.isnull().sum()"
   ]
  },
  {
   "cell_type": "markdown",
   "metadata": {},
   "source": [
    "##### _Exploring the date feature_"
   ]
  },
  {
   "cell_type": "code",
   "execution_count": null,
   "metadata": {},
   "outputs": [],
   "source": [
    "# Extract the year from the date and create a new column('year) which holds them.\n",
    "df1['year'] = [datetime.datetime.strptime(str(date), \"%Y-%m-%d %H:%M:%S\").year for date in df1.date]"
   ]
  },
  {
   "cell_type": "code",
   "execution_count": null,
   "metadata": {},
   "outputs": [],
   "source": [
    "df1"
   ]
  },
  {
   "cell_type": "code",
   "execution_count": null,
   "metadata": {},
   "outputs": [],
   "source": [
    "df1.year.value_counts()"
   ]
  },
  {
   "cell_type": "code",
   "execution_count": null,
   "metadata": {},
   "outputs": [],
   "source": [
    "# Finding the annual distribution of homicides \n",
    "sns.set_style('darkgrid')\n",
    "sns.set(font_scale=1)\n",
    "fig, ax = plt.subplots(figsize=(20,12))\n",
    "ax = sns.countplot(data=df1, x=\"year\", color=sns.color_palette()[0], order=(np.arange(2008,2019)))\n",
    "ax.set_title('annual distribution of homicides in london'.upper(), fontsize=15)\n",
    "ax.set_xlabel('Year', fontsize=15)\n",
    "ax.set_ylabel('Homicide Count', fontsize=12)\n",
    "for i in ax.patches:\n",
    "    ax.text(i.get_x() + i.get_width()/2, i.get_height()+2, i.get_height(), horizontalalignment='center', fontweight='bold')"
   ]
  },
  {
   "cell_type": "markdown",
   "metadata": {},
   "source": [
    "##### _Exploring the age and the Age group of victims_"
   ]
  },
  {
   "cell_type": "code",
   "execution_count": null,
   "metadata": {},
   "outputs": [],
   "source": [
    "# Exploring the age group of victims from 2008 - 2018\n",
    "df1.vicagegp.value_counts()"
   ]
  },
  {
   "cell_type": "code",
   "execution_count": null,
   "metadata": {},
   "outputs": [],
   "source": [
    "sns.set_style('whitegrid')\n",
    "fig, ax = plt.subplots(figsize=(20,12))\n",
    "ax = sns.countplot(data=df1.sort_values(by=['vicagegp']), x=\"vicagegp\", color=sns.color_palette()[4])\n",
    "ax.set_title('distribution of homicides based on victim age groups'.upper(), fontsize=15)\n",
    "ax.set_xlabel('Victim Age Group', fontsize=15)\n",
    "ax.set_ylabel('Homicide Count', fontsize=12)\n",
    "for i in ax.patches:\n",
    "    ax.text(i.get_x() + i.get_width()/2, i.get_height()+2, i.get_height(), horizontalalignment='center', fontweight='bold')"
   ]
  },
  {
   "cell_type": "markdown",
   "metadata": {},
   "source": [
    "Most victims of homicide are within the 25-34 age group, closely followed by people within the 20-24 who are also followed by people within the 35-44 group.\n",
    "\n",
    "We can say adults within the age of 20-44 are more likely to be killed.\n",
    "\n",
    "While children(0-12) are least likely to be killed."
   ]
  },
  {
   "cell_type": "code",
   "execution_count": null,
   "metadata": {},
   "outputs": [],
   "source": [
    "# A distribution of homicides as per the various age groups over the years.\n",
    "for year in np.arange(2008, 2019):\n",
    "    sns.set_style('whitegrid')\n",
    "    fig, ax = plt.subplots(figsize=(20,12))\n",
    "    ax = sns.countplot(data=df1[df1.year == year].sort_values(by=['vicagegp']), x=\"vicagegp\", color=sns.color_palette()[9])\n",
    "    ax.set_title('distribution of homicides based on victim age groups in {}'.format(year).upper(), fontsize=25)\n",
    "    ax.set_xlabel('Victim Age Group', fontsize=15)\n",
    "    ax.set_ylabel('Homicide Count', fontsize=12)\n",
    "    for i in ax.patches:\n",
    "        ax.text(i.get_x() + i.get_width()/2, i.get_height(), i.get_height(), horizontalalignment='center', fontweight='bold')"
   ]
  },
  {
   "cell_type": "code",
   "execution_count": null,
   "metadata": {},
   "outputs": [],
   "source": [
    "df1.info()"
   ]
  },
  {
   "cell_type": "markdown",
   "metadata": {},
   "source": [
    "##### _Exploring Victim Sex_"
   ]
  },
  {
   "cell_type": "code",
   "execution_count": null,
   "metadata": {},
   "outputs": [],
   "source": [
    "sns.set_style('whitegrid')\n",
    "fig, ax = plt.subplots(figsize=(20,10))\n",
    "ax = sns.countplot(data=df1, x=\"vicsex\")\n",
    "ax.set_title('distribution of homicides based on Victim sex'.upper(), fontsize=15)\n",
    "ax.set_xlabel('Victim Sex', fontsize=15)\n",
    "ax.set_ylabel('Homicide Count', fontsize=12)\n",
    "for i in ax.patches:\n",
    "    ax.text(i.get_x() + i.get_width()/2, i.get_height()+2, round(i.get_height(), 2), horizontalalignment='center', fontweight='bold')\n"
   ]
  },
  {
   "cell_type": "code",
   "execution_count": null,
   "metadata": {},
   "outputs": [],
   "source": [
    "fig, ax = plt.subplots(figsize=(15,5))\n",
    "ax = plt.pie(df1.vicsex.value_counts(), labels=['Male', 'Female'], explode=[0.1,0], shadow=True, radius=1.5, autopct='%1.2f%%')"
   ]
  },
  {
   "cell_type": "markdown",
   "metadata": {},
   "source": [
    "From 2008 - 2018 more male of been murdered than females.\n",
    "\n",
    "During the said period, the number of males murdered was 3 times the number of murdered females. "
   ]
  },
  {
   "cell_type": "code",
   "execution_count": null,
   "metadata": {},
   "outputs": [],
   "source": [
    "sns.set_style('whitegrid')\n",
    "fig, ax = plt.subplots(figsize=(20,12))\n",
    "ax = sns.countplot(data=df1, x=\"year\", hue=\"vicsex\")\n",
    "ax.set_title('distribution of homicides based on victim sex'.upper(), fontsize=15)\n",
    "ax.set_xlabel('Year', fontsize=15)\n",
    "ax.set_ylabel('Homicide Count', fontsize=12)\n",
    "for i in ax.patches:\n",
    "    ax.text(i.get_x() + i.get_width()/2, i.get_height()+1, i.get_height(), horizontalalignment='center', fontweight='bold')"
   ]
  },
  {
   "cell_type": "code",
   "execution_count": null,
   "metadata": {},
   "outputs": [],
   "source": []
  },
  {
   "cell_type": "markdown",
   "metadata": {},
   "source": [
    "##### _Exploring Ethnicity Of Victim_"
   ]
  },
  {
   "cell_type": "code",
   "execution_count": null,
   "metadata": {},
   "outputs": [],
   "source": [
    "# df1.vicethnic.value_counts() \n",
    "# df1.vicethnic.isnull().sum()"
   ]
  },
  {
   "cell_type": "code",
   "execution_count": null,
   "metadata": {},
   "outputs": [],
   "source": [
    "# Replacing missing values with the mode of the colomn.\n",
    "df1.vicethnic.fillna('White or White British', inplace=True)"
   ]
  },
  {
   "cell_type": "code",
   "execution_count": null,
   "metadata": {},
   "outputs": [],
   "source": [
    "fig, ax = plt.subplots(figsize=(20,12))\n",
    "ax = sns.countplot(data=df1, x=\"vicethnic\", color=sns.color_palette()[9])\n",
    "ax.set_title('distribution of homicides based on victim ethnicity'.upper(), fontsize=25)\n",
    "ax.set_xlabel('Victim Ethnicity', fontsize=15)\n",
    "ax.set_ylabel('Homicide Count', fontsize=12)\n",
    "for i in ax.patches:\n",
    "    ax.text(i.get_x() + i.get_width()/2, i.get_height(), i.get_height(), horizontalalignment='center', fontweight='bold')"
   ]
  },
  {
   "cell_type": "code",
   "execution_count": null,
   "metadata": {},
   "outputs": [],
   "source": [
    "# A distribution of homicides as per the ethnicity of the victim over the years.\n",
    "for year in np.arange(2008, 2019):\n",
    "    sns.set_style('whitegrid')\n",
    "    fig, ax = plt.subplots(figsize=(20,12))\n",
    "    ax = sns.countplot(data=df1, x=\"year\", hue=\"vicethnic\", color=sns.color_palette()[9])\n",
    "    ax.set_title('distribution of homicides based on victim ethnicity in {}'.format(year).upper(), fontsize=25)\n",
    "    ax.set_xlabel('Year', fontsize=15)\n",
    "    ax.set_ylabel('Homicide Count', fontsize=12)\n",
    "    for i in ax.patches:\n",
    "        ax.text(i.get_x() + i.get_width()/2, i.get_height(), i.get_height(), horizontalalignment='center', fontweight='bold')"
   ]
  },
  {
   "cell_type": "code",
   "execution_count": null,
   "metadata": {},
   "outputs": [],
   "source": [
    "df1"
   ]
  },
  {
   "cell_type": "markdown",
   "metadata": {},
   "source": [
    "##### _Exploring The Weapons Used_"
   ]
  },
  {
   "cell_type": "code",
   "execution_count": null,
   "metadata": {},
   "outputs": [],
   "source": [
    "df1.weapon.value_counts()"
   ]
  },
  {
   "cell_type": "code",
   "execution_count": null,
   "metadata": {},
   "outputs": [],
   "source": [
    "fig, ax = plt.subplots(figsize=(20,12))\n",
    "ax = sns.countplot(data=df1, y=\"weapon\", color=sns.color_palette()[9])\n",
    "ax.set_title('distribution of weapons used for homicides'.upper(), fontsize=25)\n",
    "ax.set_ylabel('Weapon', fontsize=15)\n",
    "ax.set_xlabel('Homicide Count', fontsize=12)\n",
    "for i in ax.patches:\n",
    "    ax.text(i.get_width()+5, i.get_y() + i.get_height()/2, i.get_width(), horizontalalignment='center', fontweight='bold')"
   ]
  },
  {
   "cell_type": "markdown",
   "metadata": {},
   "source": [
    "From the above plot we can see that, most homicides were committed using knives."
   ]
  },
  {
   "cell_type": "code",
   "execution_count": null,
   "metadata": {},
   "outputs": [],
   "source": [
    "# df1.ladnm.value_counts()"
   ]
  },
  {
   "cell_type": "code",
   "execution_count": null,
   "metadata": {},
   "outputs": [],
   "source": [
    "# The number of homicides recorded in the various towns.\n",
    "fig, ax = plt.subplots(figsize=(15,25))\n",
    "sns.set_style('darkgrid')\n",
    "ax = sns.countplot(data=df1, y='ladnm', color=sns.color_palette()[9])\n",
    "ax.set_title(\"A PLOT OF NUMBER OF CRIMES IN TOWNS\")\n",
    "for i in ax.patches:\n",
    "    ax.text(i.get_width()+1, i.get_y() + i.get_height()/2, i.get_width(), horizontalalignment='center', fontweight='bold')"
   ]
  },
  {
   "cell_type": "code",
   "execution_count": null,
   "metadata": {},
   "outputs": [],
   "source": [
    "# The distribution of weapons used for homicides in the various towns. \n",
    "fig, ax = plt.subplots(figsize=(100,25))\n",
    "sns.set_style('darkgrid')\n",
    "ax = sns.countplot(data=df1, x='ladnm', hue='weapon')\n",
    "ax.set_title(\"A PLOT OF NUMBER OF CRIMES IN TOWNS\")\n",
    "plt.xticks(rotation=45)\n",
    "# for i in ax.patches:\n",
    "#     ax.text(i.get_width()+1, i.get_y() + i.get_height()/2, i.get_width(), horizontalalignment='center', fontweight='bold')\n",
    "\n",
    "# df1.groupby(['ladnm']).weapon.value_counts()"
   ]
  },
  {
   "cell_type": "code",
   "execution_count": null,
   "metadata": {},
   "outputs": [],
   "source": [
    "# The distribution of weapons used for homicides in the various towns. \n",
    "fig, ax = plt.subplots(figsize=(100,25))\n",
    "sns.set_style('darkgrid')\n",
    "ax = sns.countplot(data=df1, x='ladnm', hue='vicagegp')\n",
    "ax.set_title(\"A PLOT OF NUMBER OF CRIMES IN TOWNS\")\n",
    "plt.xticks(rotation=45)\n",
    "\n",
    "# df1.groupby(['ladnm']).vicagegp.value_counts()"
   ]
  },
  {
   "cell_type": "code",
   "execution_count": null,
   "metadata": {},
   "outputs": [],
   "source": [
    "# Making a map of London\n",
    "m = folium.Map(location=[51.507351, -0.127758], tiles=\"cartodbpositron\")\n",
    "\n",
    "# Making a marker cluster to contain all of the points (latitudes and longitudes) in the dataset.\n",
    "points = MarkerCluster().add_to(m)\n",
    "\n",
    "# Extracting points from the dataset and adding them to the cluster object.\n",
    "for i,f in df1.iterrows():\n",
    "    folium.Marker([f.latitude, f.longitude]).add_to(points)\n",
    "    \n",
    "m"
   ]
  },
  {
   "cell_type": "code",
   "execution_count": null,
   "metadata": {},
   "outputs": [],
   "source": [
    "n = folium.Map(location=[51.507351, -0.127758], tiles=\"cartodbdark_matter\")\n",
    "\n",
    "# Making a heatmap to show all homicide hotspots.\n",
    "heat = HeatMap(df1[['latitude', 'longitude']], min_opacity=0.3).add_to(n)\n",
    "\n",
    "n"
   ]
  },
  {
   "cell_type": "code",
   "execution_count": null,
   "metadata": {},
   "outputs": [],
   "source": []
  },
  {
   "cell_type": "code",
   "execution_count": null,
   "metadata": {},
   "outputs": [],
   "source": []
  }
 ],
 "metadata": {
  "interpreter": {
   "hash": "b5fe383903f5ff192ec8937ff0c2753b6d775a81d61a32b0d72c78b2aa6994b5"
  },
  "kernelspec": {
   "display_name": "Python 3.9.7 32-bit ('dsenv': conda)",
   "language": "python",
   "name": "python3"
  },
  "language_info": {
   "codemirror_mode": {
    "name": "ipython",
    "version": 3
   },
   "file_extension": ".py",
   "mimetype": "text/x-python",
   "name": "python",
   "nbconvert_exporter": "python",
   "pygments_lexer": "ipython3",
   "version": "3.9.7"
  },
  "orig_nbformat": 4
 },
 "nbformat": 4,
 "nbformat_minor": 2
}
